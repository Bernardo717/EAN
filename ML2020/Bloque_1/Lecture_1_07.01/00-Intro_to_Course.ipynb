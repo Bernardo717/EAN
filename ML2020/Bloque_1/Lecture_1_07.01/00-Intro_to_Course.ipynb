{
 "cells": [
  {
   "cell_type": "markdown",
   "metadata": {
    "slideshow": {
     "slide_type": "slide"
    }
   },
   "source": [
    "<center>\n",
    "<img src=\"./images/EAN.jpg\" style=\"width:1200px\">\n",
    "</center>"
   ]
  },
  {
   "cell_type": "markdown",
   "metadata": {
    "slideshow": {
     "slide_type": "slide"
    }
   },
   "source": [
    "<center>\n",
    "<img src=\"./images/0_intro_ml.jpg\" style=\"width:1200px\">\n",
    "</center>"
   ]
  },
  {
   "cell_type": "markdown",
   "metadata": {
    "slideshow": {
     "slide_type": "slide"
    }
   },
   "source": [
    "# Lecture 1: Introduction \n",
    "\n",
    "## Instructors:\n",
    "\n",
    ">Leonardo A. Espinosa, PhD. Instructor.\n",
    "(*email*: leonardo.espinosaleal@arcada.fi)\n",
    "\n",
    "> Ruben D. Acosta, MSc. Instructor.\n",
    "(*email*: rdacostav@universidadean.edu.co)"
   ]
  },
  {
   "cell_type": "markdown",
   "metadata": {
    "slideshow": {
     "slide_type": "slide"
    }
   },
   "source": [
    "# Acerca de este curso\n",
    "\n",
    "<center>\n",
    "<img src=\"./images/ds_process.jpg\" style=\"width:1200px\">\n",
    "</center>"
   ]
  },
  {
   "cell_type": "markdown",
   "metadata": {
    "slideshow": {
     "slide_type": "slide"
    }
   },
   "source": [
    "# Acerca de este curso\n",
    "\n",
    "<center>\n",
    "<img src=\"./images/ds_process_1.jpg\" style=\"width:1200px\">\n",
    "</center>"
   ]
  },
  {
   "cell_type": "markdown",
   "metadata": {
    "slideshow": {
     "slide_type": "slide"
    }
   },
   "source": [
    "# Qué no es este curso:\n",
    "\n",
    "* Series de tiempo (forecasting),\n",
    "* Bases de datos,\n",
    "* Visualización,\n",
    "* Big data, sólo introducción,\n",
    "* Business analytics."
   ]
  },
  {
   "cell_type": "markdown",
   "metadata": {
    "slideshow": {
     "slide_type": "slide"
    }
   },
   "source": [
    "# Objetivos\n",
    "\n",
    "* Reconocer la naturaleza de un problema de análisis predictivo y ser capaz de crear una solución a través de un modelo optimo usando el lenguaje de programación python.\n",
    "\n",
    "* Entender los elementos básicos de un problema de grandes datos y la necesidad de usar apache spark o dask para encontrar el modelo optimo que lo solucione.\n",
    "\n",
    "* Comprender los conceptos básicos del aprendizaje profundo en problemas de visión por computador y procesamiento de lenguaje natural.\n"
   ]
  },
  {
   "cell_type": "markdown",
   "metadata": {
    "slideshow": {
     "slide_type": "slide"
    }
   },
   "source": [
    "# Prerequisitos\n",
    "\n",
    "* Bases de álgebra lineal, estadística, métodos numéricos.\n",
    "* Conocimientos de programación, preferiblemente python (C, C++ u otro lenguage orientado a objetos).\n",
    "* Bases de python son una ventaja.\n",
    "\n",
    "`Nota: Aunque se introducirán algunos elementos de python en la primera lectura, este curso no es de programación.`"
   ]
  },
  {
   "cell_type": "markdown",
   "metadata": {
    "slideshow": {
     "slide_type": "slide"
    }
   },
   "source": [
    "# Contenido\n",
    "\n",
    "Este es un **curso intensivo** de 11 sesiones. 54h presenciales (método online), 90h de trabajo autónomo (proyecto final y lecturas sugeridas). Total 144h (3 creditos). Break ~10min cada 2h.\n",
    "\n",
    "### Semana 1 (12h)\n",
    "\n",
    "* Introduccion. 01.07, 8-12 (UTC/GMT-5)\n",
    "* Algoritmos para regresión y clasificación. 02.07, 8-12 (UTC/GMT-5)\n",
    "* Preprocesamiento y escalamiento de datos. 03.07, 8-12 (UTC/GMT-5)\n"
   ]
  },
  {
   "cell_type": "markdown",
   "metadata": {
    "slideshow": {
     "slide_type": "slide"
    }
   },
   "source": [
    "# Contenido\n",
    "\n",
    "### Semana 2 (30h)\n",
    "\n",
    "* Algoritmos para clustering. 06.07, 8-12 & 13-15 (UTC/GMT-5)\n",
    "* Representación de datos e ingeniería de características. 07.07, 8-12 & 13-15 (UTC/GMT-5)\n",
    "* Evaluación y Mejoramiento de Modelos. 08.07, 8-12 & 13-15 (UTC/GMT-5)\n",
    "* Algoritmos en cadena y pipelines. 09.07, 8-12 & 13-15 (UTC/GMT-5)\n",
    "* Métodos para Análisis de Grandes Datos. 10.07, 8-12 & 13-15 (UTC/GMT-5)"
   ]
  },
  {
   "cell_type": "markdown",
   "metadata": {
    "slideshow": {
     "slide_type": "slide"
    }
   },
   "source": [
    "# Contenido\n",
    "\n",
    "### Semana 3 (8h)\n",
    "\n",
    "* Introducción al aprendizaje profundo. 13.07, 8-12  (UTC/GMT-5)\n",
    "* Asesoría de proyectos. 17.07, 8-12 & 13-15 (UTC/GMT-5)\n",
    "\n",
    "### Semana 4 (4h)\n",
    "\n",
    "* Presentaciones finales. 24.07, 8-12 & 13-15 (UTC/GMT-5)\n",
    "\n",
    "`NOTA: Es posible que haya un desplazamiento del contenido de las lecciones.`"
   ]
  },
  {
   "cell_type": "markdown",
   "metadata": {
    "slideshow": {
     "slide_type": "slide"
    }
   },
   "source": [
    "<center>\n",
    "    <img src=\"./images/00_questions.jpg\" style=\"width:1200px\">\n",
    "</center>"
   ]
  },
  {
   "cell_type": "markdown",
   "metadata": {
    "slideshow": {
     "slide_type": "slide"
    }
   },
   "source": [
    "# Evaluación\n",
    "\n",
    "\n",
    "El curso se evaluara con la presentación de un proyecto final (~15mins + ~10 min preguntas) y un reporte escrito usando un *notebook*. El proyecto se hará en grupos de máximo 2 estudiantes. Habrá un día exclusivo para asesoría de los proyectos en la semana 29 (17 de Julio) las presentaciones en la semana 30 (24 de Julio)."
   ]
  },
  {
   "cell_type": "markdown",
   "metadata": {
    "slideshow": {
     "slide_type": "slide"
    }
   },
   "source": [
    "### Proyecto final\n",
    "\n",
    "* Presentacion de la solución de un problema analítico en el que se comparan diversos métodos y se extraen conclusiones especificas.\n",
    "* Las conclusiones deberán ser claras y mostrar la necesidad de usar  resultados  de machine learning para toma de decisiones. \n",
    "\n",
    "#### Presentación y reporte\n",
    "\n",
    "* Definición del problema, origen de los datos y naturaleza (tamaño, formato, acceso, etc.)\n",
    "* Tipo de método escogido para solucionarlo, comparaciones con otros métodos (tiempo, memoria, etc), razón del método final (escalabilidad, score, explainability). \n",
    "* Mejoramiento del proceso con los resultados, conclusiones y comparación con el estado del arte."
   ]
  },
  {
   "cell_type": "markdown",
   "metadata": {
    "slideshow": {
     "slide_type": "slide"
    }
   },
   "source": [
    "# Posibles proyectos:\n",
    "\n",
    "* Tesis o startup\n",
    "* Kaggle (https://www.kaggle.com/)\n",
    "* Fuentes abiertas de datos, e.g. https://www.datos.gov.co/\n",
    "* otros"
   ]
  },
  {
   "cell_type": "markdown",
   "metadata": {
    "slideshow": {
     "slide_type": "slide"
    }
   },
   "source": [
    "<center>\n",
    "    <img src=\"./images/00_questions.jpg\" style=\"width:1200px\">\n",
    "</center>"
   ]
  },
  {
   "cell_type": "markdown",
   "metadata": {
    "slideshow": {
     "slide_type": "slide"
    }
   },
   "source": [
    "# Instructores:\n",
    "\n",
    "### Leonardo\n",
    "> Leonardo se graduó como Físico (2005) y realizo estudios de Maestría en Física (2006) de la Universidad Nacional de Colombia. Más tarde se muda a España, donde obtuvo una Maestría en Nanotecnología (2009) y un Doctorado en Ciencia de Materiales Computacionales (2013), ambos en la Universidad del País Vasco. Después de tres años de investigación posdoctoral (2013-2016) en la Universidad de Aalto (Finlandia), cambió sus intereses de investigación hacia el área de Machine Learning, Big Data e Inteligencia Artificial. En 2017 se unió a Arcada, una Universidad de Ciencias Aplicadas en Helsinki como investigador y Lecturer en Big Data Analytics. Desde el 2020 fue promovido a Senior Lecturer en Big Data Analytics. Ha escrito más de 20 artículos internacionales en diversas áreas científicas, con más de 270 citaciones (h-index 8)."
   ]
  },
  {
   "cell_type": "markdown",
   "metadata": {
    "slideshow": {
     "slide_type": "slide"
    }
   },
   "source": [
    "### Rubén\n",
    "> ?"
   ]
  },
  {
   "cell_type": "markdown",
   "metadata": {
    "slideshow": {
     "slide_type": "slide"
    }
   },
   "source": [
    "# Acerca de Arcada\n",
    "\n",
    "Arcada (Yrkeshögskolan Arcada) es una universidad de Ciencias Aplicadas fundada en 1996 como una fusión entre el Swedish Institute of Health Care Education (Sjukis), the Swedish Institute of Commercial Education (Lilla Hanken), the Institute of Technology (Verket) and the Folkhälsan Institute of Social Education. Nuestra misión no es general conocimiento teórico si no conocimiento aplicado. (~ 2600 estudiantes).\n",
    "\n",
    "* Department of Business Management and Analytics\n",
    "* Department of Energy and Materials Technology\n",
    "* Department of Health and Welfare\n",
    "* Department of Culture and Media\n",
    "* Department of Healthcare"
   ]
  },
  {
   "cell_type": "markdown",
   "metadata": {
    "slideshow": {
     "slide_type": "slide"
    }
   },
   "source": [
    "### Estudios en Big Data Analytics\n",
    "\n",
    "Desde 2016 el programa de Especialización en Big Data Analytics (30 ECTS) y desde 2018 Máster en Big Data Analytics (60 ECTS). Se pueden hacer independientemente o en un período.\n",
    "\n",
    "*First year*\n",
    "1. Introduction to Analytics (5 ECTS)\n",
    "2. **Machine Learning for Predictive Problems** (5 ECTS)\n",
    "3. Visual Analytics (5 ECTS)\n",
    "4. Machine Learning for Descriptive Problems (5 ECTS)\n",
    "5. Big Data (5 ECTS)\n",
    "6. Analytical Service Development (5 ECTS)\n",
    "\n",
    "*Second year*\n",
    "7. Research seminar & Thesis (30 ECTS)"
   ]
  },
  {
   "cell_type": "markdown",
   "metadata": {
    "slideshow": {
     "slide_type": "slide"
    }
   },
   "source": [
    "# Experiencia industrial\n",
    "\n",
    "* F-secure (https://www.f-secure.com/fi)\n",
    "* CSC Center for Science (https://www.csc.fi/)\n",
    "* 720 degrees (www.720.fi)\n",
    "* Readpeak (https://www.readpeak.com/)\n",
    "* Kone (https://www.kone.com/en/)"
   ]
  },
  {
   "cell_type": "markdown",
   "metadata": {
    "slideshow": {
     "slide_type": "slide"
    }
   },
   "source": [
    "# Universidades en Finland\n",
    "\n",
    "* 10 universidades (*yliopisto / universitet*)\n",
    "* 4 universidades especializadas (Hanken School of Economics, Lappeenranta-Lahti University of Technology LU, National Defence University  and University of the Arts Helsinki)\n",
    "* 26 universidades de ciencias aplicadas o politécnicas (*ammattikorkeakoulu / yrkeshögskola*). \n",
    "\n",
    "Universidades de ciencias aplicadas no pueden otorgar títulos de doctorado."
   ]
  },
  {
   "cell_type": "markdown",
   "metadata": {
    "slideshow": {
     "slide_type": "slide"
    }
   },
   "source": [
    "<center>\n",
    "    <img src=\"./images/finland.jpg\" style=\"width:700px\">\n",
    "</center>"
   ]
  },
  {
   "cell_type": "markdown",
   "metadata": {
    "slideshow": {
     "slide_type": "slide"
    }
   },
   "source": [
    "<center>\n",
    "    Helsinki during one very rare sunny day!\n",
    "    <img src=\"./images/Helsinki.jpg\" style=\"width:1200px\">\n",
    "</center>"
   ]
  },
  {
   "cell_type": "markdown",
   "metadata": {
    "slideshow": {
     "slide_type": "slide"
    }
   },
   "source": [
    "<center>\n",
    "    Arcada's main building\n",
    "    <img src=\"./images/Arcada.jpg\" style=\"width:1200px\">\n",
    "</center>"
   ]
  },
  {
   "cell_type": "markdown",
   "metadata": {
    "slideshow": {
     "slide_type": "slide"
    }
   },
   "source": [
    "# Importante\n",
    "\n",
    "- La mayoría de las slides están en inglés. Nunca he dado este curso en español por lo que es posible que desconozca algunos términos en español y me refiera a ellos en inglés.\n",
    "- Cada sesión incluirá elementos teóricos y prácticos, con ejercicios.\n",
    "- Si el contenido de la lección supera el tiempo establecido, el material restante y las actividades se moverán a la siguiente sesión."
   ]
  },
  {
   "cell_type": "markdown",
   "metadata": {
    "slideshow": {
     "slide_type": "slide"
    }
   },
   "source": [
    "<center>\n",
    "    <img src=\"./images/00_questions.jpg\" style=\"width:1200px\">\n",
    "</center>"
   ]
  },
  {
   "cell_type": "markdown",
   "metadata": {
    "slideshow": {
     "slide_type": "slide"
    }
   },
   "source": [
    "<center>\n",
    "    <img src=\"./images/00_We_Can_Do_It.jpg\" style=\"width:700px\">\n",
    "</center>"
   ]
  },
  {
   "cell_type": "code",
   "execution_count": null,
   "metadata": {
    "slideshow": {
     "slide_type": "skip"
    }
   },
   "outputs": [],
   "source": []
  }
 ],
 "metadata": {
  "celltoolbar": "Slideshow",
  "kernelspec": {
   "display_name": "Python 3",
   "language": "python",
   "name": "python3"
  },
  "language_info": {
   "codemirror_mode": {
    "name": "ipython",
    "version": 3
   },
   "file_extension": ".py",
   "mimetype": "text/x-python",
   "name": "python",
   "nbconvert_exporter": "python",
   "pygments_lexer": "ipython3",
   "version": "3.8.3"
  },
  "latex_metadata": {
   "author": "Leonardo Espinosa",
   "title": "MLPP: Supervised Learning"
  },
  "livereveal": {
   "overlay": "<div class='myheader'><h2 class='headertekst'>Elementos de Machine Learning y Deep Learning. Universidad EAN </h2><h3 ><a href='#/21/1'>(index)</a></h3></div>",
   "progress": true,
   "scroll": true,
   "theme": "serif",
   "transition": "simple"
  }
 },
 "nbformat": 4,
 "nbformat_minor": 1
}
